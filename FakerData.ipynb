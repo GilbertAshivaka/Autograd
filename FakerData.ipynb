{
  "nbformat": 4,
  "nbformat_minor": 0,
  "metadata": {
    "colab": {
      "provenance": [],
      "authorship_tag": "ABX9TyND2ArFqUA93cMWy1TRF54N",
      "include_colab_link": true
    },
    "kernelspec": {
      "name": "python3",
      "display_name": "Python 3"
    },
    "language_info": {
      "name": "python"
    }
  },
  "cells": [
    {
      "cell_type": "markdown",
      "metadata": {
        "id": "view-in-github",
        "colab_type": "text"
      },
      "source": [
        "<a href=\"https://colab.research.google.com/github/GilbertAshivaka/Autograd/blob/main/FakerData.ipynb\" target=\"_parent\"><img src=\"https://colab.research.google.com/assets/colab-badge.svg\" alt=\"Open In Colab\"/></a>"
      ]
    },
    {
      "cell_type": "code",
      "execution_count": null,
      "metadata": {
        "colab": {
          "base_uri": "https://localhost:8080/"
        },
        "id": "EtKc9EnNLutt",
        "outputId": "5f1e1601-89ad-4362-bfb3-8e98ce5a8751"
      },
      "outputs": [
        {
          "output_type": "stream",
          "name": "stdout",
          "text": [
            "Generated studentData.csv with 1000 records\n"
          ]
        }
      ],
      "source": [
        "from faker import Faker\n",
        "import csv\n",
        "from random import choice, randint\n",
        "\n",
        "# Initialize Faker\n",
        "fake = Faker()\n",
        "\n",
        "# Define possible values for certain fields\n",
        "branches = ['Engineering', 'Science', 'Arts']\n",
        "levels = ['Undergraduate', 'Postgraduate']\n",
        "current_year = 2025\n",
        "years = list(range(current_year - 10, current_year + 1))\n",
        "\n",
        "# Function to generate a student record\n",
        "def generate_student():\n",
        "    first_name = fake.first_name()\n",
        "    last_name = fake.last_name()\n",
        "    email = fake.email()\n",
        "    phone = fake.phone_number()\n",
        "    admission_no = str(randint(100000, 999999))\n",
        "    branch = choice(branches)\n",
        "    enrollment_year = choice(years)\n",
        "    level = choice(levels)\n",
        "\n",
        "    return [\n",
        "        first_name,\n",
        "        last_name,\n",
        "        email,\n",
        "        phone,\n",
        "        admission_no,\n",
        "        branch,\n",
        "        enrollment_year,\n",
        "        level\n",
        "    ]\n",
        "\n",
        "# Write to CSV file\n",
        "with open('studentData.csv', 'w', newline='') as file:\n",
        "    writer = csv.writer(file)\n",
        "\n",
        "    # Write header\n",
        "    writer.writerow([\n",
        "        'First Name',\n",
        "        'Last Name',\n",
        "        'Email',\n",
        "        'Phone',\n",
        "        'Admission No',\n",
        "        'Branch',\n",
        "        'Enrollment Year',\n",
        "        'Level'\n",
        "    ])\n",
        "\n",
        "    # Generate and write 1000 records\n",
        "    for _ in range(1000):\n",
        "        writer.writerow(generate_student())\n",
        "\n",
        "print(\"Generated studentData.csv with 1000 records\")"
      ]
    },
    {
      "cell_type": "code",
      "source": [
        "pip install faker"
      ],
      "metadata": {
        "colab": {
          "base_uri": "https://localhost:8080/"
        },
        "id": "BWiFE0D7L4tY",
        "outputId": "980997e8-47ea-47b9-aded-6c8cef82321c"
      },
      "execution_count": 1,
      "outputs": [
        {
          "output_type": "stream",
          "name": "stdout",
          "text": [
            "Collecting faker\n",
            "  Downloading Faker-35.2.0-py3-none-any.whl.metadata (15 kB)\n",
            "Requirement already satisfied: python-dateutil>=2.4 in /usr/local/lib/python3.11/dist-packages (from faker) (2.8.2)\n",
            "Requirement already satisfied: typing-extensions in /usr/local/lib/python3.11/dist-packages (from faker) (4.12.2)\n",
            "Requirement already satisfied: six>=1.5 in /usr/local/lib/python3.11/dist-packages (from python-dateutil>=2.4->faker) (1.17.0)\n",
            "Downloading Faker-35.2.0-py3-none-any.whl (1.9 MB)\n",
            "\u001b[?25l   \u001b[90m━━━━━━━━━━━━━━━━━━━━━━━━━━━━━━━━━━━━━━━━\u001b[0m \u001b[32m0.0/1.9 MB\u001b[0m \u001b[31m?\u001b[0m eta \u001b[36m-:--:--\u001b[0m\r\u001b[2K   \u001b[91m━━━━━━━━━━━━━━━━━━━\u001b[0m\u001b[90m╺\u001b[0m\u001b[90m━━━━━━━━━━━━━━━━━━━━\u001b[0m \u001b[32m0.9/1.9 MB\u001b[0m \u001b[31m27.4 MB/s\u001b[0m eta \u001b[36m0:00:01\u001b[0m\r\u001b[2K   \u001b[91m━━━━━━━━━━━━━━━━━━━━━━━━━━━━━━━━━━━━━━━\u001b[0m\u001b[91m╸\u001b[0m \u001b[32m1.9/1.9 MB\u001b[0m \u001b[31m36.9 MB/s\u001b[0m eta \u001b[36m0:00:01\u001b[0m\r\u001b[2K   \u001b[90m━━━━━━━━━━━━━━━━━━━━━━━━━━━━━━━━━━━━━━━━\u001b[0m \u001b[32m1.9/1.9 MB\u001b[0m \u001b[31m25.2 MB/s\u001b[0m eta \u001b[36m0:00:00\u001b[0m\n",
            "\u001b[?25hInstalling collected packages: faker\n",
            "Successfully installed faker-35.2.0\n"
          ]
        }
      ]
    },
    {
      "cell_type": "code",
      "source": [
        "from faker import Faker\n",
        "import csv\n",
        "from random import choice, randint\n",
        "\n",
        "# Initialize Faker\n",
        "fake = Faker()\n",
        "\n",
        "# Define possible values for certain fields\n",
        "departments = ['Teaching', 'HR', 'Finance', 'Research']\n",
        "categories = ['Full-time', 'Part-time']\n",
        "current_year = 2025\n",
        "years = list(range(2000, current_year + 1))\n",
        "\n",
        "# Function to generate a staff record\n",
        "def generate_staff():\n",
        "    first_name = fake.first_name()\n",
        "    last_name = fake.last_name()\n",
        "    email = fake.email()\n",
        "    phone = fake.phone_number()\n",
        "    staff_no = str(randint(20000, 99999))\n",
        "    department = choice(departments)\n",
        "    start_year = choice(years)\n",
        "    category = choice(categories)\n",
        "\n",
        "    return [\n",
        "        first_name,\n",
        "        last_name,\n",
        "        email,\n",
        "        phone,\n",
        "        staff_no,\n",
        "        department,\n",
        "        start_year,\n",
        "        category\n",
        "    ]\n",
        "\n",
        "# Write to CSV file\n",
        "with open('staffData.csv', 'w', newline='') as file:\n",
        "    writer = csv.writer(file)\n",
        "\n",
        "    # Write header\n",
        "    writer.writerow([\n",
        "        'First Name',\n",
        "        'Last Name',\n",
        "        'Email',\n",
        "        'Phone',\n",
        "        'Staff No',\n",
        "        'Department',\n",
        "        'Start Year',\n",
        "        'Category'\n",
        "    ])\n",
        "\n",
        "    # Generate and write 1000 records\n",
        "    for _ in range(1000):\n",
        "        writer.writerow(generate_staff())\n",
        "\n",
        "print(\"Generated staffData.csv with 1000 records\")"
      ],
      "metadata": {
        "colab": {
          "base_uri": "https://localhost:8080/"
        },
        "id": "B-E8gbZYOkBn",
        "outputId": "59652abf-e6e3-4f89-8e60-8b4f9e47737c"
      },
      "execution_count": null,
      "outputs": [
        {
          "output_type": "stream",
          "name": "stdout",
          "text": [
            "Generated staffData.csv with 1000 records\n"
          ]
        }
      ]
    },
    {
      "cell_type": "code",
      "source": [
        "from faker import Faker\n",
        "import csv\n",
        "from random import choice, randint\n",
        "\n",
        "# Initialize Faker\n",
        "fake = Faker()\n",
        "\n",
        "# Define possible values for certain fields\n",
        "genders = ['Male', 'Female', 'Other']\n",
        "directions = ['North', 'South', 'East', 'West', 'New', '']\n",
        "\n",
        "def generate_residence():\n",
        "    # Sometimes use a direction prefix\n",
        "    prefix = choice(directions)\n",
        "    # Generate a name-like word for the residence\n",
        "    base = choice([\n",
        "        fake.first_name(),\n",
        "        fake.last_name(),\n",
        "        fake.city()\n",
        "    ])\n",
        "    # Sometimes add a suffix\n",
        "    suffix = choice(['town', 'bury', 'fort', 'side', 'ville', ''])\n",
        "\n",
        "    parts = [part for part in [prefix, base, suffix] if part]\n",
        "    return ' '.join(parts)\n",
        "\n",
        "# Function to generate a user record\n",
        "def generate_user():\n",
        "    first_name = fake.first_name()\n",
        "    last_name = fake.last_name()\n",
        "    email = fake.email()\n",
        "    phone = fake.phone_number()\n",
        "    user_no = str(randint(1000, 9999))\n",
        "    residence = generate_residence()\n",
        "    age = randint(18, 80)\n",
        "    gender = choice(genders)\n",
        "\n",
        "    return [\n",
        "        first_name,\n",
        "        last_name,\n",
        "        email,\n",
        "        phone,\n",
        "        user_no,\n",
        "        residence,\n",
        "        age,\n",
        "        gender\n",
        "    ]\n",
        "\n",
        "# Write to CSV file\n",
        "with open('userData.csv', 'w', newline='') as file:\n",
        "    writer = csv.writer(file)\n",
        "\n",
        "    # Write header\n",
        "    writer.writerow([\n",
        "        'First Name',\n",
        "        'Last Name',\n",
        "        'Email',\n",
        "        'Phone',\n",
        "        'User No',\n",
        "        'Residence',\n",
        "        'Age',\n",
        "        'Gender'\n",
        "    ])\n",
        "\n",
        "    # Generate and write 1000 records\n",
        "    for _ in range(1000):\n",
        "        writer.writerow(generate_user())\n",
        "\n",
        "print(\"Generated userData.csv with 1000 records\")"
      ],
      "metadata": {
        "colab": {
          "base_uri": "https://localhost:8080/"
        },
        "id": "wgfVVT6CVkhI",
        "outputId": "00499dbf-0ee0-4605-caea-ada6a8578531"
      },
      "execution_count": null,
      "outputs": [
        {
          "output_type": "stream",
          "name": "stdout",
          "text": [
            "Generated userData.csv with 1000 records\n"
          ]
        }
      ]
    },
    {
      "cell_type": "code",
      "source": [
        "from faker import Faker\n",
        "import random\n",
        "import csv\n",
        "\n",
        "fake = Faker()\n",
        "\n",
        "# Define headers as expected by the BookImporter.\n",
        "headers = [\n",
        "    \"title\", \"author\", \"callNumber\", \"publisher\", \"isbn\",\n",
        "    \"shelfNo\", \"description\", \"language\", \"subject\", \"genre\",\n",
        "    \"value\", \"method\"\n",
        "]\n",
        "\n",
        "# Some example lists to choose from for subject, genre, and method.\n",
        "subjects = [\"Science\", \"History\", \"Mathematics\", \"Literature\", \"Art\", \"Technology\", \"Biography\"]\n",
        "genres = [\"Fiction\", \"Non-Fiction\", \"Mystery\", \"Romance\", \"Thriller\", \"Fantasy\", \"Sci-Fi\"]\n",
        "methods = [\"Purchase\", \"Donation\", \"Other\"]\n",
        "\n",
        "# Open a CSV file to write the test data.\n",
        "with open(\"Books.csv\", \"w\", newline=\"\", encoding=\"utf-8\") as csvfile:\n",
        "    writer = csv.writer(csvfile)\n",
        "    writer.writerow(headers)  # Write CSV header\n",
        "\n",
        "    for _ in range(50):\n",
        "        # Generate a fake book title (removing the trailing period)\n",
        "        title = fake.sentence(nb_words=4).rstrip(\".\")\n",
        "        author = fake.name()\n",
        "        # Create a call number: e.g., three letters followed by three digits\n",
        "        callNumber = fake.lexify(text=\"???\") + fake.numerify(text=\"###\")\n",
        "        publisher = fake.company()\n",
        "        isbn = fake.isbn13(separator=\"-\")\n",
        "        # shelfNo is optional: sometimes leave it blank\n",
        "        shelfNo = random.choice([fake.numerify(text=\"S##\"), \"\"])\n",
        "        # description is optional: provide a description 70% of the time\n",
        "        description = fake.text(max_nb_chars=50) if random.random() < 0.7 else \"\"\n",
        "        language = fake.language_name()\n",
        "        subject = random.choice(subjects)\n",
        "        genre = random.choice(genres)\n",
        "        # Generate a random integer for the value field\n",
        "        value = random.randint(10, 100)\n",
        "        method = random.choice(methods)\n",
        "\n",
        "        # Write the book record as a row in the CSV.\n",
        "        writer.writerow([\n",
        "            title, author, callNumber, publisher, isbn,\n",
        "            shelfNo, description, language, subject, genre,\n",
        "            value, method\n",
        "        ])\n",
        "\n",
        "print(\"Generated test_books.csv with 100 book records.\")\n"
      ],
      "metadata": {
        "colab": {
          "base_uri": "https://localhost:8080/"
        },
        "id": "8V-mEj8WFZnm",
        "outputId": "fe121e89-d445-47e3-8800-d8d8600b346a"
      },
      "execution_count": 4,
      "outputs": [
        {
          "output_type": "stream",
          "name": "stdout",
          "text": [
            "Generated test_books.csv with 100 book records.\n"
          ]
        }
      ]
    },
    {
      "cell_type": "markdown",
      "source": [
        "# New section"
      ],
      "metadata": {
        "id": "25s5o5cVGShZ"
      }
    }
  ]
}