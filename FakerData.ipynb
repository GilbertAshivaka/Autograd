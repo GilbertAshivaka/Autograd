{
  "nbformat": 4,
  "nbformat_minor": 0,
  "metadata": {
    "colab": {
      "provenance": [],
      "authorship_tag": "ABX9TyNZzqAOU55Yf+noS+2i1fwy",
      "include_colab_link": true
    },
    "kernelspec": {
      "name": "python3",
      "display_name": "Python 3"
    },
    "language_info": {
      "name": "python"
    }
  },
  "cells": [
    {
      "cell_type": "markdown",
      "metadata": {
        "id": "view-in-github",
        "colab_type": "text"
      },
      "source": [
        "<a href=\"https://colab.research.google.com/github/GilbertAshivaka/Autograd/blob/main/FakerData.ipynb\" target=\"_parent\"><img src=\"https://colab.research.google.com/assets/colab-badge.svg\" alt=\"Open In Colab\"/></a>"
      ]
    },
    {
      "cell_type": "code",
      "execution_count": 3,
      "metadata": {
        "colab": {
          "base_uri": "https://localhost:8080/"
        },
        "id": "EtKc9EnNLutt",
        "outputId": "5f1e1601-89ad-4362-bfb3-8e98ce5a8751"
      },
      "outputs": [
        {
          "output_type": "stream",
          "name": "stdout",
          "text": [
            "Generated studentData.csv with 1000 records\n"
          ]
        }
      ],
      "source": [
        "from faker import Faker\n",
        "import csv\n",
        "from random import choice, randint\n",
        "\n",
        "# Initialize Faker\n",
        "fake = Faker()\n",
        "\n",
        "# Define possible values for certain fields\n",
        "branches = ['Engineering', 'Science', 'Arts']\n",
        "levels = ['Undergraduate', 'Postgraduate']\n",
        "current_year = 2025\n",
        "years = list(range(current_year - 10, current_year + 1))\n",
        "\n",
        "# Function to generate a student record\n",
        "def generate_student():\n",
        "    first_name = fake.first_name()\n",
        "    last_name = fake.last_name()\n",
        "    email = fake.email()\n",
        "    phone = fake.phone_number()\n",
        "    admission_no = str(randint(100000, 999999))\n",
        "    branch = choice(branches)\n",
        "    enrollment_year = choice(years)\n",
        "    level = choice(levels)\n",
        "\n",
        "    return [\n",
        "        first_name,\n",
        "        last_name,\n",
        "        email,\n",
        "        phone,\n",
        "        admission_no,\n",
        "        branch,\n",
        "        enrollment_year,\n",
        "        level\n",
        "    ]\n",
        "\n",
        "# Write to CSV file\n",
        "with open('studentData.csv', 'w', newline='') as file:\n",
        "    writer = csv.writer(file)\n",
        "\n",
        "    # Write header\n",
        "    writer.writerow([\n",
        "        'First Name',\n",
        "        'Last Name',\n",
        "        'Email',\n",
        "        'Phone',\n",
        "        'Admission No',\n",
        "        'Branch',\n",
        "        'Enrollment Year',\n",
        "        'Level'\n",
        "    ])\n",
        "\n",
        "    # Generate and write 1000 records\n",
        "    for _ in range(1000):\n",
        "        writer.writerow(generate_student())\n",
        "\n",
        "print(\"Generated studentData.csv with 1000 records\")"
      ]
    },
    {
      "cell_type": "code",
      "source": [
        "pip install faker"
      ],
      "metadata": {
        "colab": {
          "base_uri": "https://localhost:8080/"
        },
        "id": "BWiFE0D7L4tY",
        "outputId": "e391ab57-0fbd-4b93-ff3f-e9e2b0f15c62"
      },
      "execution_count": 2,
      "outputs": [
        {
          "output_type": "stream",
          "name": "stdout",
          "text": [
            "Collecting faker\n",
            "  Downloading Faker-35.2.0-py3-none-any.whl.metadata (15 kB)\n",
            "Requirement already satisfied: python-dateutil>=2.4 in /usr/local/lib/python3.11/dist-packages (from faker) (2.8.2)\n",
            "Requirement already satisfied: typing-extensions in /usr/local/lib/python3.11/dist-packages (from faker) (4.12.2)\n",
            "Requirement already satisfied: six>=1.5 in /usr/local/lib/python3.11/dist-packages (from python-dateutil>=2.4->faker) (1.17.0)\n",
            "Downloading Faker-35.2.0-py3-none-any.whl (1.9 MB)\n",
            "\u001b[2K   \u001b[90m━━━━━━━━━━━━━━━━━━━━━━━━━━━━━━━━━━━━━━━━\u001b[0m \u001b[32m1.9/1.9 MB\u001b[0m \u001b[31m21.1 MB/s\u001b[0m eta \u001b[36m0:00:00\u001b[0m\n",
            "\u001b[?25hInstalling collected packages: faker\n",
            "Successfully installed faker-35.2.0\n"
          ]
        }
      ]
    }
  ]
}